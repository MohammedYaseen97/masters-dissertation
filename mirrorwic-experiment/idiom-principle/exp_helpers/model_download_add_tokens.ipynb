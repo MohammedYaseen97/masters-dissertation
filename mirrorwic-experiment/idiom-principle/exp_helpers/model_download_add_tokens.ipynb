{
 "cells": [
  {
   "cell_type": "code",
   "execution_count": 1,
   "id": "2c0468aa",
   "metadata": {},
   "outputs": [],
   "source": [
    "# Model to be downloaded\n",
    "pretrained_model_name = 'bert-base-uncased'\n",
    "model_head = 'MaskedLM' # Possible options: 'MaskedLM', 'SequenceClassification'"
   ]
  },
  {
   "cell_type": "code",
   "execution_count": 2,
   "id": "b1a96d51",
   "metadata": {},
   "outputs": [
    {
     "name": "stdout",
     "output_type": "stream",
     "text": [
      "Updated model name will be:bert-base-uncased_MaskedLM_STR_option1\n"
     ]
    }
   ],
   "source": [
    "local_model_base_dir = '../local_models/'\n",
    "# Location to save the model\n",
    "updated_model_name = '_'.join([pretrained_model_name, model_head, 'STR_option2'])\n",
    "model_checkpoint_dir = local_model_base_dir + updated_model_name\n",
    "print(f'Updated model name will be:{updated_model_name}')"
   ]
  },
  {
   "cell_type": "code",
   "execution_count": 3,
   "id": "07f0be98",
   "metadata": {},
   "outputs": [],
   "source": [
    "# New Vocab tokens to be added\n",
    "new_tokens_file_path = '../data/token_files/option2_idiom_tokens.txt'"
   ]
  },
  {
   "cell_type": "markdown",
   "id": "880f6d68",
   "metadata": {},
   "source": [
    "## 1. Download the required pretrained LM model"
   ]
  },
  {
   "cell_type": "code",
   "execution_count": 4,
   "id": "36e0f630",
   "metadata": {},
   "outputs": [
    {
     "name": "stderr",
     "output_type": "stream",
     "text": [
      "/opt/conda/envs/acp20mym-idiomprinciple/lib/python3.9/site-packages/tqdm/auto.py:22: TqdmWarning: IProgress not found. Please update jupyter and ipywidgets. See https://ipywidgets.readthedocs.io/en/stable/user_install.html\n",
      "  from .autonotebook import tqdm as notebook_tqdm\n"
     ]
    }
   ],
   "source": [
    "from transformers import AutoModelForMaskedLM, AutoModelForSequenceClassification\n",
    "from transformers import AutoTokenizer\n",
    "\n",
    "import re\n",
    "import os\n",
    "import sys\n",
    "import shutil"
   ]
  },
  {
   "cell_type": "code",
   "execution_count": 5,
   "id": "476c6307",
   "metadata": {
    "scrolled": true
   },
   "outputs": [
    {
     "name": "stdout",
     "output_type": "stream",
     "text": [
      "Model class is:<class 'types.AutoModelForMaskedLM'>\n"
     ]
    },
    {
     "name": "stderr",
     "output_type": "stream",
     "text": [
      "Some weights of the model checkpoint at bert-base-uncased were not used when initializing BertForMaskedLM: ['cls.seq_relationship.weight', 'cls.seq_relationship.bias']\n",
      "- This IS expected if you are initializing BertForMaskedLM from the checkpoint of a model trained on another task or with another architecture (e.g. initializing a BertForSequenceClassification model from a BertForPreTraining model).\n",
      "- This IS NOT expected if you are initializing BertForMaskedLM from the checkpoint of a model that you expect to be exactly identical (initializing a BertForSequenceClassification model from a BertForSequenceClassification model).\n"
     ]
    },
    {
     "name": "stdout",
     "output_type": "stream",
     "text": [
      "Loaded both the LM Model & the Tokenizer models\n"
     ]
    }
   ],
   "source": [
    "if model_head == 'MaskedLM':\n",
    "    model_class = AutoModelForMaskedLM\n",
    "elif model_head == 'SequenceClassification':\n",
    "    model_class = AutoModelForSequenceClassification\n",
    "else:\n",
    "    raise ValueError(f'Model head {model_head} is not supported')\n",
    "\n",
    "# Download the model with appropriate head\n",
    "print(f'Model class is:{model_class}')\n",
    "model = model_class.from_pretrained(pretrained_model_name)\n",
    "# Download the Tokenizer model\n",
    "tokenizer = AutoTokenizer.from_pretrained(pretrained_model_name, use_fast=False, truncation=True)\n",
    "print(f\"Loaded both the LM Model & the Tokenizer models\")"
   ]
  },
  {
   "cell_type": "markdown",
   "id": "21ec798f",
   "metadata": {},
   "source": [
    "## 2. Update the Tokenizer & LM by adding single-token-representations"
   ]
  },
  {
   "cell_type": "code",
   "execution_count": 6,
   "id": "f40d62a9",
   "metadata": {},
   "outputs": [
    {
     "name": "stdout",
     "output_type": "stream",
     "text": [
      "Going to add 1738 new tokens to the vocabulary\n"
     ]
    }
   ],
   "source": [
    "# Load the tokens to be inserted into the vocab\n",
    "new_tokens = open(new_tokens_file_path).read().lstrip().rstrip().split('\\n')\n",
    "new_tokens_count = len(new_tokens)\n",
    "print(f'Going to add {new_tokens_count} new tokens to the vocabulary')"
   ]
  },
  {
   "cell_type": "code",
   "execution_count": 7,
   "id": "b629f1ed",
   "metadata": {},
   "outputs": [
    {
     "name": "stdout",
     "output_type": "stream",
     "text": [
      "Input Embeddings before update: Embedding(30522, 768, padding_idx=0)\n",
      "Input Embeddings after update: Embedding(32260, 768)\n"
     ]
    }
   ],
   "source": [
    "# Add the new tokens\n",
    "num_added_toks = tokenizer.add_tokens(new_tokens)\n",
    "# Resize the model embedding dimensions\n",
    "print(f'Input Embeddings before update: {model.get_input_embeddings()}')\n",
    "embedding = model.resize_token_embeddings(len(tokenizer))\n",
    "print(f'Input Embeddings after update: {embedding}')"
   ]
  },
  {
   "cell_type": "code",
   "execution_count": 8,
   "id": "a6c87bc7",
   "metadata": {},
   "outputs": [
    {
     "name": "stdout",
     "output_type": "stream",
     "text": [
      "Added 1738 new tokens to the model at ../local_models/bert-base-uncased_MaskedLM_STR_option1\n"
     ]
    }
   ],
   "source": [
    "model.save_pretrained(model_checkpoint_dir)\n",
    "tokenizer.save_pretrained(model_checkpoint_dir)\n",
    "print(f'Added {num_added_toks} new tokens to the model at {model_checkpoint_dir}')"
   ]
  },
  {
   "cell_type": "markdown",
   "id": "aac25617",
   "metadata": {},
   "source": [
    "### Test the updated Tokenizer & LM models"
   ]
  },
  {
   "cell_type": "code",
   "execution_count": 9,
   "id": "af096cf1",
   "metadata": {},
   "outputs": [],
   "source": [
    "# Load the tokenizer with updated vocab file\n",
    "tokenizer = AutoTokenizer.from_pretrained(model_checkpoint_dir, use_fast= False, \\\n",
    "                                          max_length=510, force_download=True)"
   ]
  },
  {
   "cell_type": "code",
   "execution_count": 10,
   "id": "d5dd6d7e",
   "metadata": {},
   "outputs": [
    {
     "name": "stdout",
     "output_type": "stream",
     "text": [
      "['this', 'is', 'a', 'idoffthebeatentrackid']\n",
      "['this', 'is', 'a', 'idchapterandverseid']\n",
      "\n",
      "\n",
      "SUCCESS!! The bert-base-uncased_MaskedLM_STR_option1 model has been updated with new tokens!!\n"
     ]
    }
   ],
   "source": [
    "# Test for MWE single-tokens\n",
    "test_tokens = ['IDoffthebeatentrackID', 'IDchapterandverseID']\n",
    "\n",
    "for token in test_tokens:\n",
    "#     assert tokenizer.tokenize(f'This is a {token}')[-1] == token\n",
    "    print(tokenizer.tokenize(f'This is a {token}'))\n",
    "\n",
    "print('\\n')\n",
    "print(f'SUCCESS!! The {updated_model_name} model has been updated with new tokens!!')"
   ]
  },
  {
   "cell_type": "markdown",
   "id": "e5e19ddd",
   "metadata": {},
   "source": [
    "### Testing tokenizer for random pre-trained model"
   ]
  },
  {
   "cell_type": "code",
   "execution_count": 11,
   "id": "f8ceeef6",
   "metadata": {},
   "outputs": [
    {
     "ename": "AssertionError",
     "evalue": "",
     "output_type": "error",
     "traceback": [
      "\u001b[0;31m---------------------------------------------------------------------------\u001b[0m",
      "\u001b[0;31mAssertionError\u001b[0m                            Traceback (most recent call last)",
      "Input \u001b[0;32mIn [11]\u001b[0m, in \u001b[0;36m<cell line: 1>\u001b[0;34m()\u001b[0m\n\u001b[0;32m----> 1\u001b[0m \u001b[38;5;28;01massert\u001b[39;00m \u001b[38;5;28;01mFalse\u001b[39;00m \u001b[38;5;66;03m# comment this line if you want to execute below\u001b[39;00m\n\u001b[1;32m      3\u001b[0m \u001b[38;5;28;01mfrom\u001b[39;00m \u001b[38;5;21;01mtransformers\u001b[39;00m \u001b[38;5;28;01mimport\u001b[39;00m AutoModelForMaskedLM, AutoModelForSequenceClassification\n\u001b[1;32m      4\u001b[0m \u001b[38;5;28;01mfrom\u001b[39;00m \u001b[38;5;21;01mtransformers\u001b[39;00m \u001b[38;5;28;01mimport\u001b[39;00m AutoTokenizer\n",
      "\u001b[0;31mAssertionError\u001b[0m: "
     ]
    }
   ],
   "source": [
    "assert False # comment this line if you want to execute below\n",
    "\n",
    "from transformers import AutoModelForMaskedLM, AutoModelForSequenceClassification\n",
    "from transformers import AutoTokenizer\n",
    "\n",
    "import re\n",
    "import os\n",
    "import sys\n",
    "import shutil"
   ]
  },
  {
   "cell_type": "code",
   "execution_count": null,
   "id": "1b9846cf",
   "metadata": {},
   "outputs": [],
   "source": [
    "model_checkpoint_dir = '../local_models/bert-base-uncased_option1_with_bertram'\n",
    "\n",
    "# Load the tokenizer with updated vocab file\n",
    "tokenizer = AutoTokenizer.from_pretrained(model_checkpoint_dir, use_fast= False, \\\n",
    "                                          max_length=510, force_download=True)"
   ]
  },
  {
   "cell_type": "code",
   "execution_count": null,
   "id": "e0d1aaac",
   "metadata": {},
   "outputs": [],
   "source": [
    "# Test for MWE single-tokens\n",
    "test_tokens = ['<BERTRAM:IDaheadofthecurveID>'.lower(), '<BERTRAM:IDaheadofthecurveID>', 'IDchapterandverseID', '<BERTRAM:IDcallaspadeaspadeID>']\n",
    "\n",
    "for token in test_tokens:\n",
    "#     assert tokenizer.tokenize(f'This is a {token}')[-1] == token\n",
    "    print(tokenizer.tokenize(f'This is a {token}'))"
   ]
  },
  {
   "cell_type": "markdown",
   "id": "aa6c3730",
   "metadata": {},
   "source": [
    "## References\n",
    "Reference implementations\n",
    "1. [Adding new Tokens](https://huggingface.co/transformers/v2.11.0/main_classes/tokenizer.html#transformers.PreTrainedTokenizer.add_tokens)\n",
    "2. [Manual method of adding tokens](https://github.com/H-TayyarMadabushi/AStitchInLanguageModels/blob/main/Dataset/Task2/README.md#adding-idiom-tokens-to--transformers-models)"
   ]
  }
 ],
 "metadata": {
  "anaconda-cloud": {},
  "kernelspec": {
   "display_name": "idiomprinciple-jupyter",
   "language": "python",
   "name": "idiomprinciple-jupyter"
  },
  "language_info": {
   "codemirror_mode": {
    "name": "ipython",
    "version": 3
   },
   "file_extension": ".py",
   "mimetype": "text/x-python",
   "name": "python",
   "nbconvert_exporter": "python",
   "pygments_lexer": "ipython3",
   "version": "3.9.0"
  }
 },
 "nbformat": 4,
 "nbformat_minor": 5
}
