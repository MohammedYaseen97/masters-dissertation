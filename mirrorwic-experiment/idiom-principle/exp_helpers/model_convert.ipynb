{
 "cells": [
  {
   "cell_type": "markdown",
   "metadata": {},
   "source": [
    "# Changing model head of MirrorWiC models from MLM to SequenceClassification"
   ]
  },
  {
   "cell_type": "code",
   "execution_count": 1,
   "metadata": {},
   "outputs": [
    {
     "name": "stderr",
     "output_type": "stream",
     "text": [
      "/data/acp20mym/.conda/envs/acp20mym-idiomprinciple/lib/python3.9/site-packages/tqdm/auto.py:22: TqdmWarning: IProgress not found. Please update jupyter and ipywidgets. See https://ipywidgets.readthedocs.io/en/stable/user_install.html\n",
      "  from .autonotebook import tqdm as notebook_tqdm\n"
     ]
    }
   ],
   "source": [
    "from transformers import AutoTokenizer, AutoModelForSequenceClassification"
   ]
  },
  {
   "cell_type": "code",
   "execution_count": 2,
   "metadata": {
    "collapsed": true
   },
   "outputs": [],
   "source": [
    "input_model_checkpoint_dir = '../local_models/bert-base-uncased_MaskedLM_STR1_0.0_mirror'\n",
    "output_model_checkpoint_dir = '../local_models/bert-base-uncased_SequenceClassification_STR1_0.0_mirror'"
   ]
  },
  {
   "cell_type": "code",
   "execution_count": 3,
   "metadata": {},
   "outputs": [
    {
     "name": "stderr",
     "output_type": "stream",
     "text": [
      "Some weights of BertForSequenceClassification were not initialized from the model checkpoint at ../local_models/bert-base-uncased_MaskedLM_STR1_0.0_mirror and are newly initialized: ['classifier.bias', 'classifier.weight']\n",
      "You should probably TRAIN this model on a down-stream task to be able to use it for predictions and inference.\n"
     ]
    }
   ],
   "source": [
    "tokenizer = AutoTokenizer.from_pretrained(input_model_checkpoint_dir)\n",
    "model = AutoModelForSequenceClassification.from_pretrained(input_model_checkpoint_dir)"
   ]
  },
  {
   "cell_type": "code",
   "execution_count": 4,
   "metadata": {},
   "outputs": [
    {
     "name": "stdout",
     "output_type": "stream",
     "text": [
      "New model saved at checkpoint : ../local_models/bert-base-uncased_SequenceClassification_STR1_0.0_mirror\n"
     ]
    }
   ],
   "source": [
    "model.save_pretrained(output_model_checkpoint_dir)\n",
    "tokenizer.save_pretrained(output_model_checkpoint_dir)\n",
    "print(\"New model saved at checkpoint : {}\".format(output_model_checkpoint_dir))"
   ]
  },
  {
   "cell_type": "code",
   "execution_count": null,
   "metadata": {
    "collapsed": true
   },
   "outputs": [],
   "source": []
  }
 ],
 "metadata": {
  "anaconda-cloud": {},
  "kernelspec": {
   "display_name": "acp20mym-idiomprinciple",
   "language": "python",
   "name": "acp20mym-idiomprinciple"
  },
  "language_info": {
   "codemirror_mode": {
    "name": "ipython",
    "version": 3
   },
   "file_extension": ".py",
   "mimetype": "text/x-python",
   "name": "python",
   "nbconvert_exporter": "python",
   "pygments_lexer": "ipython3",
   "version": "3.9.0"
  }
 },
 "nbformat": 4,
 "nbformat_minor": 2
}
